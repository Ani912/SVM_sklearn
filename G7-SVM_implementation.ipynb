{
 "cells": [
  {
   "cell_type": "code",
   "execution_count": 4,
   "metadata": {},
   "outputs": [],
   "source": [
    "import numpy as np\n",
    "from sklearn import svm,datasets\n",
    "from sklearn.model_selection import train_test_split\n",
    "import math\n",
    "import matplotlib.pyplot as plt\n",
    "import scipy.optimize\n",
    "import csv\n",
    "from sklearn.model_selection import KFold\n",
    "import cvxopt\n",
    "import cvxopt.solvers\n",
    "from sklearn.grid_search import GridSearchCV\n",
    "from sklearn import metrics\n",
    "from sklearn.metrics import mean_squared_error\n",
    "from math import sqrt\n",
    "import random\n",
    "\n",
    "float_formatter = lambda x : \"%.5f\" %x\n",
    "np.set_printoptions(formatter =  {'float_kind' : float_formatter})"
   ]
  },
  {
   "cell_type": "markdown",
   "metadata": {},
   "source": [
    "# Definitions for linear/polynomial/RBF kernels"
   ]
  },
  {
   "cell_type": "code",
   "execution_count": 5,
   "metadata": {},
   "outputs": [],
   "source": [
    "def linear_kernel2(x,xp):\n",
    "    return x.dot(xp.T)\n",
    "\n",
    "def poly_kernel2(x, xp, alpha = 1, deg = 2) :\n",
    "    return np.power(x.dot(xp.T) + alpha, deg)\n",
    "\n",
    "def RBF_kernel2(x, xp, sigma = 1) :\n",
    "    return np.exp(-(np.linalg.norm(x.T - xp.T, ord =2) ** 2)/ (2 * (sigma ** 2)))\n"
   ]
  },
  {
   "cell_type": "markdown",
   "metadata": {},
   "source": [
    "# SVM Main Code"
   ]
  },
  {
   "cell_type": "code",
   "execution_count": 6,
   "metadata": {},
   "outputs": [],
   "source": [
    "def mx(x):\n",
    "    return cvxopt.matrix(x)\n",
    "\n",
    "def simplesvm(inputval,outputval,targetset,ktype='linear',lambdaval=0,sigmaval=1,alphaval=1,poly_degree=2,cval=1):\n",
    "    # Returns predicted class of targetset, and the x,y support vector\n",
    "\n",
    "    ##############\n",
    "    # CREATE MODEL\n",
    "    ##############\n",
    "    \n",
    "    numdata, numdimension = inputval.shape\n",
    "    \n",
    "    # Calculate BigK\n",
    "    for i in inputval:\n",
    "        SubKResult = np.array([])\n",
    "        for j in inputval:\n",
    "            if ktype == 'poly':\n",
    "                SubKResult = np.append(SubKResult,np.array([poly_kernel2(i,j,alphaval,poly_degree)]))\n",
    "            elif ktype == 'linear':\n",
    "                SubKResult = np.append(SubKResult,np.array([linear_kernel2(i,j)]))\n",
    "            elif ktype == 'RBF':\n",
    "                SubKResult = np.append(SubKResult,np.array([RBF_kernel2(i,j,sigmaval)]))\n",
    "        if 'BigK' in locals():\n",
    "            BigK = np.vstack([BigK,np.matrix(SubKResult)])\n",
    "        else:\n",
    "            BigK = np.array(SubKResult)\n",
    "    BigK = np.array(BigK) # convert from matrix type to array type\n",
    "    #print 'BigK :',BigK\n",
    "\n",
    "    # Perform Quadratic Programming\n",
    "    P = np.outer(outputval, outputval) * BigK\n",
    "    q = np.negative(np.ones(numdata))\n",
    "    G = np.vstack(((np.diag(np.negative(np.ones(numdata))),np.identity(numdata))))\n",
    "    h = np.hstack((np.zeros(numdata), np.ones(numdata)*cval))\n",
    "    cvxopt.solvers.options['show_progress'] = False\n",
    "    QPResult = cvxopt.solvers.qp(mx(P),mx(q),mx(G),mx(h),cvxopt.matrix(outputval,(1,numdata)),mx(0.0))\n",
    "    \n",
    "    # calculate a\n",
    "    a = np.ravel(QPResult['x'])\n",
    "    #print 'a: ',a\n",
    "    \n",
    "    # Pick the support vector (val > pseudozero) -> because value is float\n",
    "    pseudozero = 0.0000001\n",
    "    sv_y = np.array([])\n",
    "    sv_idx = a > pseudozero\n",
    "    for idx,val in enumerate(a):\n",
    "        if val>pseudozero:\n",
    "            if 'sv_x' in locals():\n",
    "                sv_x = np.vstack([sv_x,np.array([inputval[idx]])])\n",
    "                sv_K = np.vstack([sv_K,np.array([BigK[idx,sv_idx]])])\n",
    "            else:\n",
    "                sv_x = np.array(inputval[idx])\n",
    "                sv_K = np.array(BigK[idx,sv_idx])\n",
    "            sv_y = np.append(sv_y,outputval[idx])\n",
    "    #print sv_K\n",
    "            \n",
    "    # calculate b\n",
    "    b = 0\n",
    "    amod = a[a>pseudozero]\n",
    "    #print 'amod ',a\n",
    "    axy = amod * sv_y\n",
    "    for (val_y,val_K) in zip(sv_y,sv_K):\n",
    "        b += val_y - np.sum(axy * val_K)\n",
    "    b = b/(sv_y.shape[0]) # don't forget to divide by N\n",
    "    #print 'b: ',b\n",
    "    \n",
    "    # Model is done.\n",
    "    ################\n",
    "    \n",
    "    \n",
    "    # Predict class of target\n",
    "    for i in targetset:\n",
    "        result = 0        \n",
    "        for x,y,z in zip(amod,sv_y,sv_x):\n",
    "            if ktype == 'poly':\n",
    "                kernelval = poly_kernel2(i,z,alphaval,poly_degree)\n",
    "            elif ktype == 'linear':\n",
    "                kernelval = linear_kernel2(i,z)\n",
    "            elif ktype == 'RBF':\n",
    "                kernelval = RBF_kernel2(i,z,sigmaval)\n",
    "            result += x * y * kernelval\n",
    "            #print 'x y kernelval result',x,y,kernelval, result\n",
    "        #print 'i result',i,' ',result\n",
    "        result += b\n",
    "        if 'predictval' in locals():\n",
    "            predictval = np.append(predictval,-1.0 if result<0 else 1.0)\n",
    "        else:\n",
    "            predictval = np.array([-1 if result<0 else 1])\n",
    "    \n",
    "    del (BigK)\n",
    "    \n",
    "    return predictval, sv_x, sv_y"
   ]
  },
  {
   "cell_type": "markdown",
   "metadata": {},
   "source": [
    "# PROOF OF CORRECTNESS USING TRIVIAL DATA"
   ]
  },
  {
   "cell_type": "code",
   "execution_count": 7,
   "metadata": {},
   "outputs": [
    {
     "name": "stdout",
     "output_type": "stream",
     "text": [
      "Using  15  points for support\n",
      "Correct:  40 / 40\n"
     ]
    },
    {
     "data": {
      "image/png": "[encoded data removed]",
      "text/plain": [
       "<matplotlib.figure.Figure at 0x7ff7e86eecd0>"
      ]
     },
     "metadata": {},
     "output_type": "display_data"
    }
   ],
   "source": [
    "# Create two random class of data\n",
    "# Which centers on (2,3) and (3,2) respectively\n",
    "\n",
    "numdata = 100 # Nbr of datapoints for each class\n",
    "centerplusone = [2,3] # center of the first class (y = +1)\n",
    "centerminusone = [3,2] # center of the second class (y = -1)\n",
    "variance = 0.1 # larger -> more scatter\n",
    "\n",
    "# First Class\n",
    "x1 = np.random.multivariate_normal(np.array(centerplusone),np.array([[variance,0],[0,variance]]),numdata)\n",
    "y1 = np.ones(numdata) # y = +1\n",
    "\n",
    "# Second Class\n",
    "x2 = np.random.multivariate_normal(np.array(centerminusone),np.array([[variance,0],[0,variance]]),numdata)\n",
    "y2 = np.negative(np.ones(numdata)) # y = -1\n",
    "\n",
    "# Test data\n",
    "xt1 = np.random.multivariate_normal(np.array(centerplusone),np.array([[variance,0],[0,variance]]),numdata/5)\n",
    "xt2 = np.random.multivariate_normal(np.array(centerminusone),np.array([[variance,0],[0,variance]]),numdata/5)\n",
    "xt = np.concatenate((xt1,xt2))\n",
    "yt1 = np.ones(numdata/5)\n",
    "yt2 = np.negative(np.ones(numdata/5))\n",
    "yt = np.concatenate((yt1,yt2))\n",
    "\n",
    "# Run SVM on Trivial Data\n",
    "C = 3 # too large->overfit\n",
    "x = np.concatenate((x1,x2)) # combine first and second class into one dataset\n",
    "y = np.concatenate((y1,y2))\n",
    "predict,svx,svy = simplesvm(x,y,xt,ktype='RBF',cval=C)\n",
    "correct = np.sum(predict==yt)\n",
    "print 'Using ',svy.shape[0],' points for support'\n",
    "print 'Correct: ',correct,'/',yt.shape[0]\n",
    "incorrect = xt[predict<>yt]\n",
    "\n",
    "# Plot\n",
    "plt.plot(x1[:,0], x1[:,1], \"r^\") # first class (+1) - red up triangle\n",
    "plt.plot(x2[:,0], x2[:,1], \"bv\") # second class (-1) - blue down triangle\n",
    "plt.plot(xt[:,0], xt[:,1], \"kD\", marker='D') # target - black diamond\n",
    "plt.scatter(svx[:,0], svx[:,1], s=100, c=\"g\", marker='o') # support vector - green circle\n",
    "plt.scatter(incorrect[:,0], incorrect[:,1], s=100, c='m', marker='o') # incorrect - magenta circle\n",
    "plt.show()\n",
    "\n",
    "plt.clf()\n",
    "plt.cla()\n",
    "plt.close()"
   ]
  },
  {
   "cell_type": "code",
   "execution_count": 8,
   "metadata": {},
   "outputs": [],
   "source": [
    "#regression call for kernelized ridge regression\n",
    "\n",
    "def svm_reg(inputval,outputval,targetset,truthset,ktype,cvals=[]) :\n",
    "    '''the following function will perform SVM regression with\n",
    "       respective kernel and multiple value of C as defined'''\n",
    "    allresult = []\n",
    "    for c in cvals:\n",
    "        predict,svx,svy = simplesvm(inputval,outputval,targetset,ktype=ktype,cval=c)\n",
    "        pcterr = np.sum(predict<>yt)/truthset.shape[0]\n",
    "        allresult.append([c, pcterr])\n",
    "    return np.array(allresult)"
   ]
  },
  {
   "cell_type": "markdown",
   "metadata": {},
   "source": [
    "# WORKING OF KERNELS ON RANDOMLY GENERATED IRIS DATASET\n",
    "# 1. Divide testdata into Train / Validate(80%) and Test(20%)"
   ]
  },
  {
   "cell_type": "code",
   "execution_count": 9,
   "metadata": {},
   "outputs": [],
   "source": [
    "# Load IRIS Data\n",
    "iris = datasets.load_iris()\n",
    "#print \"Iris data set Description :: \", iris['DESCR']\n",
    "\n",
    "# Use only the last two classes (row 50 - 150)\n",
    "# Use only the last two features (feat. 2-3)\n",
    "# Because data is sorted based on class, we choose row 50-90;100-140 as test/validate\n",
    "# and 90-100;140-150 as test set\n",
    "x3 = iris.data[50:100,2:]\n",
    "x4 = iris.data[100:150,2:]\n",
    "y3 = np.ones(50)\n",
    "y4 = np.negative(np.ones(50))\n",
    "x = np.concatenate([x3,x4])\n",
    "y = np.concatenate([y3,y4])\n",
    "\n",
    "# create train and test set\n",
    "X_trainval,X_test,Y_trainval,Y_test=train_test_split(x,y,test_size=0.2,stratify=y)\n"
   ]
  },
  {
   "cell_type": "markdown",
   "metadata": {},
   "source": [
    "# 2. Run Hyper Parameter regression to find the best parameters based on Pct error"
   ]
  },
  {
   "cell_type": "markdown",
   "metadata": {},
   "source": [
    "# 2.a. Linear Kernel"
   ]
  },
  {
   "cell_type": "code",
   "execution_count": 10,
   "metadata": {},
   "outputs": [
    {
     "name": "stdout",
     "output_type": "stream",
     "text": [
      "K-Fold (linear kernel)\n",
      "Fold:  1\n",
      "Fold:  2\n"
     ]
    },
    {
     "name": "stderr",
     "output_type": "stream",
     "text": [
      "/usr/local/lib/python2.7/dist-packages/ipykernel_launcher.py:9: DeprecationWarning: elementwise != comparison failed; this will raise an error in the future.\n",
      "  if __name__ == '__main__':\n"
     ]
    },
    {
     "name": "stdout",
     "output_type": "stream",
     "text": [
      "Fold:  3\n",
      "Fold:  4\n",
      "Fold:  5\n",
      "Best c for linear kernel is :  0.01\n",
      "\n",
      "Final linear kernel error against test set:  0.0\n"
     ]
    }
   ],
   "source": [
    "# hyperparam\n",
    "cvals = [0.01,0.1,1,10]\n",
    "\n",
    "# Perform 5-fold cross validation on train/validate\n",
    "kf = KFold(n_splits=5)\n",
    "\n",
    "kf.get_n_splits(X_trainval)\n",
    "print 'K-Fold (linear kernel)'\n",
    "\n",
    "best_linear_err = None\n",
    "kfoldstep = 0\n",
    "for train_idx, validate_idx in kf.split(X_trainval):\n",
    "    kfoldstep += 1\n",
    "    print 'Fold: ',kfoldstep\n",
    "    mlinput, mltest = X_trainval[train_idx], X_trainval[validate_idx]\n",
    "    mloutput, testtruth = Y_trainval[train_idx], Y_trainval[validate_idx]\n",
    "    \n",
    "    # Linear Kernelized Ridge Regression\n",
    "    result = svm_reg(mlinput,mloutput,mltest,testtruth,'linear',cvals=cvals)\n",
    "    result = result[result[:, 1].argsort()] # sort based on error\n",
    "    if (result[0,1] < best_linear_err) or (best_linear_err == None) :\n",
    "        best_linear_err = result[0,1]\n",
    "        best_linear_c = result[0,0]\n",
    "    \n",
    "print 'Best c for linear kernel is : ', best_linear_c\n",
    "print '\\nFinal linear kernel error against test set: ',best_linear_err"
   ]
  },
  {
   "cell_type": "markdown",
   "metadata": {},
   "source": [
    "# 2.b. Polynomial Kernel"
   ]
  },
  {
   "cell_type": "code",
   "execution_count": 11,
   "metadata": {},
   "outputs": [
    {
     "name": "stdout",
     "output_type": "stream",
     "text": [
      "K-Fold (polynomial kernel)\n",
      "Fold:  1\n"
     ]
    },
    {
     "name": "stderr",
     "output_type": "stream",
     "text": [
      "/usr/local/lib/python2.7/dist-packages/ipykernel_launcher.py:9: DeprecationWarning: elementwise != comparison failed; this will raise an error in the future.\n",
      "  if __name__ == '__main__':\n"
     ]
    },
    {
     "name": "stdout",
     "output_type": "stream",
     "text": [
      "Fold:  2\n",
      "Fold:  3\n",
      "Fold:  4\n",
      "Fold:  5\n",
      "Best c for polynomial kernel is :  0.01\n",
      "\n",
      "Final polynomial kernel error against test set:  0.0\n"
     ]
    }
   ],
   "source": [
    "# hyperparam\n",
    "cvals = [0.01,0.1,1,10]\n",
    "\n",
    "# Perform 5-fold cross validation on train/validate\n",
    "kf = KFold(n_splits=5)\n",
    "\n",
    "kf.get_n_splits(X_trainval)\n",
    "print 'K-Fold (polynomial kernel)'\n",
    "\n",
    "best_poly_err = None\n",
    "kfoldstep = 0\n",
    "for train_idx, validate_idx in kf.split(X_trainval):\n",
    "    kfoldstep += 1\n",
    "    print 'Fold: ',kfoldstep\n",
    "    mlinput, mltest = X_trainval[train_idx], X_trainval[validate_idx]\n",
    "    mloutput, testtruth = Y_trainval[train_idx], Y_trainval[validate_idx]\n",
    "    \n",
    "    # Linear Kernelized Ridge Regression\n",
    "    result = svm_reg(mlinput,mloutput,mltest,testtruth,'poly',cvals=cvals)\n",
    "    result = result[result[:, 1].argsort()] # sort based on error\n",
    "    if (result[0,1] < best_poly_err) or (best_poly_err == None) :\n",
    "        best_poly_err = result[0,1]\n",
    "        best_poly_c = result[0,0]\n",
    "    \n",
    "print 'Best c for polynomial kernel is : ', best_poly_c\n",
    "print '\\nFinal polynomial kernel error against test set: ',best_poly_err"
   ]
  },
  {
   "cell_type": "markdown",
   "metadata": {},
   "source": [
    "# 2.c. RBF Kernel"
   ]
  },
  {
   "cell_type": "code",
   "execution_count": 12,
   "metadata": {},
   "outputs": [
    {
     "name": "stdout",
     "output_type": "stream",
     "text": [
      "K-Fold (RBF kernel)\n",
      "Fold:  1\n"
     ]
    },
    {
     "name": "stderr",
     "output_type": "stream",
     "text": [
      "/usr/local/lib/python2.7/dist-packages/ipykernel_launcher.py:9: DeprecationWarning: elementwise != comparison failed; this will raise an error in the future.\n",
      "  if __name__ == '__main__':\n"
     ]
    },
    {
     "name": "stdout",
     "output_type": "stream",
     "text": [
      "Fold:  2\n",
      "Fold:  3\n",
      "Fold:  4\n",
      "Fold:  5\n",
      "Best c for rbf kernel is :  0.01\n",
      "\n",
      "Final rbf kernel error against test set:  0.0\n"
     ]
    }
   ],
   "source": [
    "# hyperparam\n",
    "cvals = [0.01,0.1,1,10]\n",
    "\n",
    "# Perform 5-fold cross validation on train/validate\n",
    "kf = KFold(n_splits=5)\n",
    "\n",
    "kf.get_n_splits(X_trainval)\n",
    "print 'K-Fold (RBF kernel)'\n",
    "\n",
    "best_rbf_err = None\n",
    "kfoldstep = 0\n",
    "for train_idx, validate_idx in kf.split(X_trainval):\n",
    "    kfoldstep += 1\n",
    "    print 'Fold: ',kfoldstep\n",
    "    mlinput, mltest = X_trainval[train_idx], X_trainval[validate_idx]\n",
    "    mloutput, testtruth = Y_trainval[train_idx], Y_trainval[validate_idx]\n",
    "    \n",
    "    # Linear Kernelized Ridge Regression\n",
    "    result = svm_reg(mlinput,mloutput,mltest,testtruth,'RBF',cvals=cvals)\n",
    "    result = result[result[:, 1].argsort()] # sort based on error\n",
    "    if (result[0,1] < best_rbf_err) or (best_rbf_err == None) :\n",
    "        best_rbf_err = result[0,1]\n",
    "        best_rbf_c = result[0,0]\n",
    "    \n",
    "print 'Best c for rbf kernel is : ', best_poly_c\n",
    "print '\\nFinal rbf kernel error against test set: ',best_rbf_err"
   ]
  },
  {
   "cell_type": "markdown",
   "metadata": {},
   "source": [
    "# 3. Use best parameter and kernel against test data and plot it"
   ]
  },
  {
   "cell_type": "code",
   "execution_count": 13,
   "metadata": {},
   "outputs": [
    {
     "name": "stdout",
     "output_type": "stream",
     "text": [
      "Using  80  points for support\n",
      "Correct:  19 / 20\n"
     ]
    },
    {
     "data": {
      "image/png": "[encoded data removed]",
      "text/plain": [
       "<matplotlib.figure.Figure at 0x7ff7e86ee6d0>"
      ]
     },
     "metadata": {},
     "output_type": "display_data"
    }
   ],
   "source": [
    "# All kernels are equally good at classifying\n",
    "# We'll just pick RBF\n",
    "X_trainval,X_test,Y_trainval,Y_test=train_test_split(x,y,test_size=0.2,stratify=y)\n",
    "\n",
    "predict,svx,svy = simplesvm(X_trainval,Y_trainval,X_test,ktype='linear',cval=0.01)\n",
    "correct = np.sum(predict==Y_test)\n",
    "print 'Using ',svy.shape[0],' points for support'\n",
    "print 'Correct: ',correct,'/',Y_test.shape[0]\n",
    "incorrect = X_test[predict<>Y_test]\n",
    "\n",
    "plt.plot(X_trainval[:,0], X_trainval[:,1], \"ro\") # training data - red dot\n",
    "plt.plot(X_test[:,0], X_test[:,1], \"kD\") # test set - black diamond\n",
    "plt.scatter(svx[:,0], svx[:,1], s=100, c=\"g\", marker='o') # support vector - green circle\n",
    "plt.scatter(incorrect[:,0], incorrect[:,1], s=100, c='m', marker='o') # incorrect - magenta circle\n",
    "plt.show()\n",
    "\n",
    "plt.clf()\n",
    "plt.cla()\n",
    "plt.close()\n",
    "\n",
    "#print x_test\n",
    "#print y_test"
   ]
  },
  {
   "cell_type": "markdown",
   "metadata": {},
   "source": [
    "# 4. Implemenetation of sklearn API SVC on iris dataset"
   ]
  },
  {
   "cell_type": "code",
   "execution_count": 14,
   "metadata": {},
   "outputs": [
    {
     "name": "stdout",
     "output_type": "stream",
     "text": [
      "Iris data set Description ::  Iris Plants Database\n",
      "====================\n",
      "\n",
      "Notes\n",
      "-----\n",
      "Data Set Characteristics:\n",
      "    :Number of Instances: 150 (50 in each of three classes)\n",
      "    :Number of Attributes: 4 numeric, predictive attributes and the class\n",
      "    :Attribute Information:\n",
      "        - sepal length in cm\n",
      "        - sepal width in cm\n",
      "        - petal length in cm\n",
      "        - petal width in cm\n",
      "        - class:\n",
      "                - Iris-Setosa\n",
      "                - Iris-Versicolour\n",
      "                - Iris-Virginica\n",
      "    :Summary Statistics:\n",
      "\n",
      "    ============== ==== ==== ======= ===== ====================\n",
      "                    Min  Max   Mean    SD   Class Correlation\n",
      "    ============== ==== ==== ======= ===== ====================\n",
      "    sepal length:   4.3  7.9   5.84   0.83    0.7826\n",
      "    sepal width:    2.0  4.4   3.05   0.43   -0.4194\n",
      "    petal length:   1.0  6.9   3.76   1.76    0.9490  (high!)\n",
      "    petal width:    0.1  2.5   1.20  0.76     0.9565  (high!)\n",
      "    ============== ==== ==== ======= ===== ====================\n",
      "\n",
      "    :Missing Attribute Values: None\n",
      "    :Class Distribution: 33.3% for each of 3 classes.\n",
      "    :Creator: R.A. Fisher\n",
      "    :Donor: Michael Marshall (MARSHALL%PLU@io.arc.nasa.gov)\n",
      "    :Date: July, 1988\n",
      "\n",
      "This is a copy of UCI ML iris datasets.\n",
      "http://archive.ics.uci.edu/ml/datasets/Iris\n",
      "\n",
      "The famous Iris database, first used by Sir R.A Fisher\n",
      "\n",
      "This is perhaps the best known database to be found in the\n",
      "pattern recognition literature.  Fisher's paper is a classic in the field and\n",
      "is referenced frequently to this day.  (See Duda & Hart, for example.)  The\n",
      "data set contains 3 classes of 50 instances each, where each class refers to a\n",
      "type of iris plant.  One class is linearly separable from the other 2; the\n",
      "latter are NOT linearly separable from each other.\n",
      "\n",
      "References\n",
      "----------\n",
      "   - Fisher,R.A. \"The use of multiple measurements in taxonomic problems\"\n",
      "     Annual Eugenics, 7, Part II, 179-188 (1936); also in \"Contributions to\n",
      "     Mathematical Statistics\" (John Wiley, NY, 1950).\n",
      "   - Duda,R.O., & Hart,P.E. (1973) Pattern Classification and Scene Analysis.\n",
      "     (Q327.D83) John Wiley & Sons.  ISBN 0-471-22361-1.  See page 218.\n",
      "   - Dasarathy, B.V. (1980) \"Nosing Around the Neighborhood: A New System\n",
      "     Structure and Classification Rule for Recognition in Partially Exposed\n",
      "     Environments\".  IEEE Transactions on Pattern Analysis and Machine\n",
      "     Intelligence, Vol. PAMI-2, No. 1, 67-71.\n",
      "   - Gates, G.W. (1972) \"The Reduced Nearest Neighbor Rule\".  IEEE Transactions\n",
      "     on Information Theory, May 1972, 431-433.\n",
      "   - See also: 1988 MLC Proceedings, 54-64.  Cheeseman et al\"s AUTOCLASS II\n",
      "     conceptual clustering system finds 3 classes in the data.\n",
      "   - Many, many more ...\n",
      "\n"
     ]
    }
   ],
   "source": [
    "iris = datasets.load_iris()\n",
    "print \"Iris data set Description :: \", iris['DESCR']"
   ]
  },
  {
   "cell_type": "code",
   "execution_count": 28,
   "metadata": {},
   "outputs": [
    {
     "data": {
      "image/png": "[encoded data removed]",
      "text/plain": [
       "<matplotlib.figure.Figure at 0x7ff7e5fd5490>"
      ]
     },
     "metadata": {},
     "output_type": "display_data"
    }
   ],
   "source": [
    "def visuvalize_petal():\n",
    "    iris = datasets.load_iris()\n",
    "    X = iris.data[:, 2:]  # we only take the last two features.\n",
    "    y = iris.target\n",
    "    plt.scatter(X[:, 0], X[:, 1], c=y, cmap=plt.cm.coolwarm)\n",
    "    plt.xlabel('Petal length')\n",
    "    plt.ylabel('Petal width')\n",
    "    plt.title('Petal Width & Length')\n",
    "    plt.show()\n",
    " \n",
    "visuvalize_petal()"
   ]
  },
  {
   "cell_type": "markdown",
   "metadata": {},
   "source": [
    "The petal dataset gets more accurate results as compared to the "
   ]
  },
  {
   "cell_type": "code",
   "execution_count": 29,
   "metadata": {},
   "outputs": [],
   "source": [
    "iris = datasets.load_iris()\n",
    "X = iris.data[:, 2:]\n",
    "y = iris.target\n",
    "C = 1.0  # SVM regularization parameter\n",
    "\n",
    "# SVC with linear kernel\n",
    "lin_svc = svm.SVC(kernel='linear', C=C).fit(X, y)\n",
    "# SVC with RBF kernel\n",
    "rbf_svc = svm.SVC(kernel='rbf', gamma=0.001, C=C).fit(X, y)\n",
    "# SVC with polynomial (degree 3) kernel\n",
    "poly_svc = svm.SVC(kernel='poly', degree=3, C=C).fit(X, y)"
   ]
  },
  {
   "cell_type": "code",
   "execution_count": 30,
   "metadata": {},
   "outputs": [
    {
     "data": {
      "image/png": "[encoded data removed]",
      "text/plain": [
       "<matplotlib.figure.Figure at 0x7ff7e5dd35d0>"
      ]
     },
     "metadata": {},
     "output_type": "display_data"
    }
   ],
   "source": [
    "x_min, x_max = X[:,0].min() - 1, X[:,0].max() + 1\n",
    "y_min, y_max = X[:,1].min() - 1, X[:,1].max() + 1\n",
    "h = .02\n",
    "xx, yy = np.meshgrid(np.arange(x_min, x_max, h),\n",
    "                     np.arange(y_min, y_max, h))\n",
    "plt.subplot(1,1,1)\n",
    "Z = lin_svc.predict(np.c_[xx.ravel(), yy.ravel()])\n",
    "Z = Z.reshape(xx.shape)\n",
    "plt.contourf(xx, yy, Z, cmap = plt.cm.Paired, alpha = 0.8)\n",
    "plt.scatter(X[:, 0], X[:, 1], c=y, cmap=plt.cm.Paired)\n",
    "plt.xlabel('Petal length')\n",
    "plt.ylabel('Petal width')\n",
    "plt.xlim(xx.min(), xx.max())\n",
    "plt.title('SVC with linear kernel')\n",
    "plt.show()"
   ]
  },
  {
   "cell_type": "code",
   "execution_count": 31,
   "metadata": {},
   "outputs": [
    {
     "data": {
      "image/png": "[encoded data removed]",
      "text/plain": [
       "<matplotlib.figure.Figure at 0x7ff81c589850>"
      ]
     },
     "metadata": {},
     "output_type": "display_data"
    }
   ],
   "source": [
    "x_min, x_max = X[:,0].min() - 1, X[:,0].max() + 1\n",
    "y_min, y_max = X[:,1].min() - 1, X[:,1].max() + 1\n",
    "h = .02\n",
    "xx, yy = np.meshgrid(np.arange(x_min, x_max, h),\n",
    "                     np.arange(y_min, y_max, h))\n",
    "plt.subplot(1,1,1)\n",
    "Z = rbf_svc.predict(np.c_[xx.ravel(), yy.ravel()])\n",
    "Z = Z.reshape(xx.shape)\n",
    "plt.contourf(xx, yy, Z, cmap = plt.cm.Paired, alpha = 0.8)\n",
    "plt.scatter(X[:, 0], X[:, 1], c=y, cmap=plt.cm.Paired)\n",
    "plt.xlabel('Petal length')\n",
    "plt.ylabel('Petal width')\n",
    "plt.xlim(xx.min(), xx.max())\n",
    "plt.title('SVC with RBF kernel')\n",
    "plt.show()"
   ]
  },
  {
   "cell_type": "code",
   "execution_count": 32,
   "metadata": {},
   "outputs": [
    {
     "data": {
      "image/png": "[encoded data removed]",
      "text/plain": [
       "<matplotlib.figure.Figure at 0x7ff7e5e69050>"
      ]
     },
     "metadata": {},
     "output_type": "display_data"
    }
   ],
   "source": [
    "x_min, x_max = X[:,0].min() - 1, X[:,0].max() + 1\n",
    "y_min, y_max = X[:,1].min() - 1, X[:,1].max() + 1\n",
    "h = .02\n",
    "xx, yy = np.meshgrid(np.arange(x_min, x_max, h),\n",
    "                     np.arange(y_min, y_max, h))\n",
    "plt.subplot(1,1,1)\n",
    "Z = poly_svc.predict(np.c_[xx.ravel(), yy.ravel()])\n",
    "Z = Z.reshape(xx.shape)\n",
    "plt.contourf(xx, yy, Z, cmap = plt.cm.Paired, alpha = 0.8)\n",
    "plt.scatter(X[:, 0], X[:, 1], c=y, cmap=plt.cm.Paired)\n",
    "plt.xlabel('Petal length')\n",
    "plt.ylabel('Petal width')\n",
    "plt.xlim(xx.min(), xx.max())\n",
    "plt.title('SVC with Polynomial kernel')\n",
    "plt.show()"
   ]
  },
  {
   "cell_type": "markdown",
   "metadata": {},
   "source": [
    "# Performance of sckit-learn API"
   ]
  },
  {
   "cell_type": "code",
   "execution_count": 33,
   "metadata": {},
   "outputs": [
    {
     "name": "stdout",
     "output_type": "stream",
     "text": [
      "1.0\n"
     ]
    }
   ],
   "source": [
    "model= svm.SVC()\n",
    "model.fit(x_train,y_train.ravel())\n",
    "y_pred=model.predict(x_test)\n",
    "print model.score(x_test,y_test.ravel())"
   ]
  },
  {
   "cell_type": "code",
   "execution_count": 34,
   "metadata": {},
   "outputs": [
    {
     "name": "stdout",
     "output_type": "stream",
     "text": [
      "0.961904761905\n",
      "{'coef0': 1.0}\n",
      "1.0\n"
     ]
    }
   ],
   "source": [
    "param={'coef0':[1e0,0.1,1e-2,1e-3,0.5,2,3,5]}\n",
    "\n",
    "grid_l = GridSearchCV(svm.SVC(kernel = 'linear'), param, cv = 5)\n",
    "grid_l.fit(x_train, y_train)\n",
    "print grid_l.best_score_\n",
    "print grid_l.best_params_\n",
    "#model.get_params().keys()\n",
    "#model_linear = svm.SVC(kernel = 'linear', coef0 = 1.0, C = 5)\n",
    "#model_linear.fit(x_train,y_train)\n",
    "y_target1 = grid_l.predict(x_test)\n",
    "score = metrics.r2_score(y_test, y_target1)\n",
    "print score "
   ]
  },
  {
   "cell_type": "code",
   "execution_count": 35,
   "metadata": {},
   "outputs": [
    {
     "name": "stdout",
     "output_type": "stream",
     "text": [
      "0.961904761905\n",
      "{'coef0': 3, 'gamma': 0.01}\n",
      "1.0\n"
     ]
    }
   ],
   "source": [
    "grid_poly= GridSearchCV(svm.SVC(kernel='poly', degree = 3), cv=5, param_grid={\"coef0\":[1e0,0.1,1e-2,1e-3,0.5,2,3,5], \"gamma\":[0.001,0.0001,0.01,0.1,1,0.5,2,3]})\n",
    "grid_poly.fit(x_train,y_train)\n",
    "print grid_poly.best_score_\n",
    "print grid_poly.best_params_\n",
    "#model_poly = svm.SVC(kernel = 'poly', degree = 2, coef0 = 5, gamma = 0.1, C = 5)\n",
    "#model_poly.fit(x_train,y_train)\n",
    "y_target2 = grid_poly.predict(x_test)\n",
    "score_poly = metrics.r2_score(y_test, y_target2)\n",
    "print score_poly "
   ]
  },
  {
   "cell_type": "code",
   "execution_count": 36,
   "metadata": {},
   "outputs": [
    {
     "name": "stdout",
     "output_type": "stream",
     "text": [
      "0.952380952381\n",
      "{'coef0': 1.0, 'gamma': 0.1}\n",
      "1.0\n"
     ]
    }
   ],
   "source": [
    "grid_gaussian= GridSearchCV(svm.SVC(kernel=\"rbf\"), cv=5, param_grid={\"coef0\":[1e0,0.1,1e-2,1e-3,0.5,2,3,5], \"gamma\":[0.001,0.0001,0.01,0.1,1,0.5,2,3,10]})\n",
    "grid_gaussian.fit(x_train,y_train)\n",
    "print grid_gaussian.best_score_\n",
    "print grid_gaussian.best_params_\n",
    "y_target3=grid_gaussian.predict(x_test)\n",
    "score_gauss = metrics.r2_score(y_test, y_target3)\n",
    "print score_gauss "
   ]
  },
  {
   "cell_type": "code",
   "execution_count": null,
   "metadata": {},
   "outputs": [],
   "source": []
  }
 ],
 "metadata": {
  "kernelspec": {
   "display_name": "Python 2",
   "language": "python",
   "name": "python2"
  },
  "language_info": {
   "codemirror_mode": {
    "name": "ipython",
    "version": 2
   },
   "file_extension": ".py",
   "mimetype": "text/x-python",
   "name": "python",
   "nbconvert_exporter": "python",
   "pygments_lexer": "ipython2",
   "version": "2.7.12"
  }
 },
 "nbformat": 4,
 "nbformat_minor": 2
}
